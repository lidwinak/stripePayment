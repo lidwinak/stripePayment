{
 "cells": [
  {
   "cell_type": "code",
   "execution_count": 1,
   "metadata": {},
   "outputs": [
    {
     "name": "stdout",
     "output_type": "stream",
     "text": [
      "Secret Key: sk_test_51Qsj8IE80TxtqCF9btCSqlh2iqFtojjrJMRmKmBvqW6o7wThF4onbggPLRiW2g2NiBKzccsLsxw8DcXCKgTvX8QN00XAQd3TCO\n",
      "Publishable Key: pk_test_51Qsj8IE80TxtqCF9b5I86sv9GZgLKB3lxO93hXCMlFF8V4KmzIABBPbddoeDXap49Ryfl2X5TyNWvYP6aT29F6fz00fwoITHGw\n"
     ]
    }
   ],
   "source": [
    "import os\n",
    "from dotenv import load_dotenv\n",
    "\n",
    "load_dotenv()\n",
    "\n",
    "secret_key = os.getenv(\"API_secret_KEY\")\n",
    "print(f\"Secret Key: {secret_key}\")\n",
    "\n",
    "publishable_key = os.getenv(\"API_publisher_KEY\")\n",
    "print(f\"Publishable Key: {publishable_key}\")"
   ]
  },
  {
   "cell_type": "code",
   "execution_count": null,
   "metadata": {},
   "outputs": [],
   "source": []
  }
 ],
 "metadata": {
  "kernelspec": {
   "display_name": "stripePayment",
   "language": "python",
   "name": "python3"
  },
  "language_info": {
   "codemirror_mode": {
    "name": "ipython",
    "version": 3
   },
   "file_extension": ".py",
   "mimetype": "text/x-python",
   "name": "python",
   "nbconvert_exporter": "python",
   "pygments_lexer": "ipython3",
   "version": "3.12.9"
  }
 },
 "nbformat": 4,
 "nbformat_minor": 2
}
